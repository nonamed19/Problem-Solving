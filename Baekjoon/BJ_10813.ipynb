{
 "cells": [
  {
   "cell_type": "code",
   "execution_count": null,
   "metadata": {},
   "outputs": [],
   "source": [
    "# 10813 공 바꾸기\n",
    "\n",
    "# 도현이는 바구니를 총 N개 가지고 있고, 각각의 바구니에는 1번부터 N번까지 번호가 매겨져 있다.\n",
    "# 바구니에는 공이 1개씩 들어있고, 처음에는 바구니에 적혀있는 번호와 같은 번호가 적힌 공이 들어있다.\n",
    "# 도현이는 앞으로 M번 공을 바꾸려고 한다. 도현이는 공을 바꿀 바구니 2개를 선택하고, 두 바구니에 들어있는 공을 서로 교환한다.\n",
    "# 공을 어떻게 바꿀지가 주어졌을 때, M번 공을 바꾼 이후에 각 바구니에 어떤 공이 들어있는지 구하는 프로그램을 작성하시오.\n",
    "\n",
    "# 입력\n",
    "# 첫째 줄에 N (1 ≤ N ≤ 100)과 M (1 ≤ M ≤ 100)이 주어진다.\n",
    "# 둘째 줄부터 M개의 줄에 걸쳐서 공을 교환할 방법이 주어진다.\n",
    "# 각 방법은 두 정수 i j로 이루어져 있으며, i번 바구니와 j번 바구니에 들어있는 공을 교환한다는 뜻이다. (1 ≤ i ≤ j ≤ N)\n",
    "# 도현이는 입력으로 주어진 순서대로 공을 교환한다.\n",
    "\n",
    "# 출력\n",
    "# 1번 바구니부터 N번 바구니에 들어있는 공의 번호를 공백으로 구분해 출력한다."
   ]
  },
  {
   "cell_type": "code",
   "execution_count": 29,
   "metadata": {},
   "outputs": [
    {
     "ename": "IndexError",
     "evalue": "list index out of range",
     "output_type": "error",
     "traceback": [
      "\u001b[1;31m---------------------------------------------------------------------------\u001b[0m",
      "\u001b[1;31mIndexError\u001b[0m                                Traceback (most recent call last)",
      "Cell \u001b[1;32mIn[29], line 4\u001b[0m\n\u001b[0;32m      1\u001b[0m list_NM \u001b[38;5;241m=\u001b[39m []\n\u001b[0;32m      3\u001b[0m list_NM \u001b[38;5;241m=\u001b[39m \u001b[38;5;28mlist\u001b[39m(\u001b[38;5;28mmap\u001b[39m(\u001b[38;5;28mint\u001b[39m, \u001b[38;5;28minput\u001b[39m()\u001b[38;5;241m.\u001b[39msplit()))\n\u001b[1;32m----> 4\u001b[0m N \u001b[38;5;241m=\u001b[39m \u001b[43mlist_NM\u001b[49m\u001b[43m[\u001b[49m\u001b[38;5;241;43m0\u001b[39;49m\u001b[43m]\u001b[49m\n\u001b[0;32m      5\u001b[0m M \u001b[38;5;241m=\u001b[39m list_NM[\u001b[38;5;241m1\u001b[39m]\n\u001b[0;32m      6\u001b[0m \u001b[38;5;66;03m# print(N, M)\u001b[39;00m\n",
      "\u001b[1;31mIndexError\u001b[0m: list index out of range"
     ]
    }
   ],
   "source": [
    "list_NM = []\n",
    "\n",
    "list_NM = list(map(int, input().split()))\n",
    "N = list_NM[0]\n",
    "M = list_NM[1]\n",
    "# print(N, M)\n",
    "list_main = [0]*N\n",
    "\n",
    "for n in range(N):\n",
    "    list_main[n] = n+1\n",
    "# print(list_main)\n",
    "\n",
    "for l in range(M):\n",
    "    list_ij = list(map(int, input().split()))\n",
    "    i = list_ij[0]-1\n",
    "    j = list_ij[1]-1\n",
    "    # print(i, j)\n",
    "    # list_main_temp = list_main\n",
    "    list_main[i], list_main[j] = list_main[j], list_main[i]\n",
    "    # print(list_main)\n",
    "\n",
    "print(*list_main)"
   ]
  }
 ],
 "metadata": {
  "kernelspec": {
   "display_name": "Python 3",
   "language": "python",
   "name": "python3"
  },
  "language_info": {
   "codemirror_mode": {
    "name": "ipython",
    "version": 3
   },
   "file_extension": ".py",
   "mimetype": "text/x-python",
   "name": "python",
   "nbconvert_exporter": "python",
   "pygments_lexer": "ipython3",
   "version": "3.9.13"
  }
 },
 "nbformat": 4,
 "nbformat_minor": 2
}
