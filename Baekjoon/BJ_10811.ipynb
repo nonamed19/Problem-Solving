{
 "cells": [
  {
   "cell_type": "code",
   "execution_count": null,
   "metadata": {},
   "outputs": [],
   "source": [
    "# 10811 바구니 뒤집기\n",
    "\n",
    "# 도현이는 바구니를 총 N개 가지고 있고, 각각의 바구니에는 1번부터 N번까지 번호가 순서대로 적혀져 있다.\n",
    "# 바구니는 일렬로 놓여져 있고, 가장 왼쪽 바구니를 1번째 바구니, 그 다음 바구니를 2번째 바구니, ..., 가장 오른쪽 바구니를 N번째 바구니라고 부른다. \n",
    "# 도현이는 앞으로 M번 바구니의 순서를 역순으로 만들려고 한다.\n",
    "# 도현이는 한 번 순서를 역순으로 바꿀 때, 순서를 역순으로 만들 범위를 정하고, 그 범위에 들어있는 바구니의 순서를 역순으로 만든다.\n",
    "# 바구니의 순서를 어떻게 바꿀지 주어졌을 때, M번 바구니의 순서를 역순으로 만든 다음, 바구니에 적혀있는 번호를 가장 왼쪽 바구니부터 출력하는 프로그램을 작성하시오.\n",
    "\n",
    "# 입력\n",
    "# 첫째 줄에 N (1 ≤ N ≤ 100)과 M (1 ≤ M ≤ 100)이 주어진다.\n",
    "# 둘째 줄부터 M개의 줄에는 바구니의 순서를 역순으로 만드는 방법이 주어진다.\n",
    "# 방법은 i j로 나타내고, 왼쪽으로부터 i번째 바구니부터 j번째 바구니의 순서를 역순으로 만든다는 뜻이다. (1 ≤ i ≤ j ≤ N)\n",
    "# 도현이는 입력으로 주어진 순서대로 바구니의 순서를 바꾼다.\n",
    "\n",
    "# 출력\n",
    "# 모든 순서를 바꾼 다음에, 가장 왼쪽에 있는 바구니부터 바구니에 적혀있는 순서를 공백으로 구분해 출력한다."
   ]
  },
  {
   "cell_type": "code",
   "execution_count": 18,
   "metadata": {},
   "outputs": [
    {
     "name": "stdout",
     "output_type": "stream",
     "text": [
      "3 4 1 2 5\n"
     ]
    }
   ],
   "source": [
    "list_NM = []\n",
    "\n",
    "list_NM = list(map(int, input().split()))\n",
    "N = list_NM[0]\n",
    "M = list_NM[1]\n",
    "# print(N, M)\n",
    "list_main = [0]*N\n",
    "\n",
    "for n in range(N):\n",
    "    list_main[n] = n+1\n",
    "# print(list_main)\n",
    "\n",
    "for l in range(M):\n",
    "    list_ij = list(map(int, input().split()))\n",
    "    i = list_ij[0]\n",
    "    j = list_ij[1]\n",
    "    # print(i, j)\n",
    "    list_main_temp = [0]*(j-i+1)\n",
    "    list_main_temp[i-1:j] = list_main[i-1:j]\n",
    "    # print(list_main_temp)\n",
    "    list_main_temp.reverse()\n",
    "    # print(list_main_temp)\n",
    "    while 0 in list_main_temp :\n",
    "        list_main_temp.remove(0)\n",
    "    list_main[i-1:j] = list_main_temp\n",
    "    \n",
    "    # print(list_main)\n",
    "\n",
    "print(*list_main)"
   ]
  }
 ],
 "metadata": {
  "kernelspec": {
   "display_name": "Python 3",
   "language": "python",
   "name": "python3"
  },
  "language_info": {
   "codemirror_mode": {
    "name": "ipython",
    "version": 3
   },
   "file_extension": ".py",
   "mimetype": "text/x-python",
   "name": "python",
   "nbconvert_exporter": "python",
   "pygments_lexer": "ipython3",
   "version": "3.9.13"
  }
 },
 "nbformat": 4,
 "nbformat_minor": 2
}
